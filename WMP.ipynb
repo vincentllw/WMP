{
 "cells": [
  {
   "cell_type": "markdown",
   "metadata": {},
   "source": [
    "# Research and development of counting mosquito eggs"
   ]
  },
  {
   "cell_type": "markdown",
   "metadata": {},
   "source": [
    "## Import libraries\n",
    "\n",
    "The main libraries/packages that we use is opencv-python and numpy.\n",
    "We use python 3.7"
   ]
  },
  {
   "cell_type": "code",
   "execution_count": 1,
   "metadata": {},
   "outputs": [
    {
     "name": "stderr",
     "output_type": "stream",
     "text": [
      "WARNING: pip is being invoked by an old script wrapper. This will fail in a future version of pip.\n",
      "Please see https://github.com/pypa/pip/issues/5599 for advice on fixing the underlying issue.\n",
      "To avoid this problem you can invoke Python with '-m pip' instead of running pip directly.\n"
     ]
    },
    {
     "name": "stdout",
     "output_type": "stream",
     "text": [
      "Requirement already satisfied: opencv-python==4.4.0.46 in /opt/anaconda3/lib/python3.8/site-packages (4.4.0.46)\n",
      "Requirement already satisfied: numpy>=1.17.3 in /opt/anaconda3/lib/python3.8/site-packages (from opencv-python==4.4.0.46) (1.19.3)\n"
     ]
    },
    {
     "name": "stderr",
     "output_type": "stream",
     "text": [
      "WARNING: pip is being invoked by an old script wrapper. This will fail in a future version of pip.\n",
      "Please see https://github.com/pypa/pip/issues/5599 for advice on fixing the underlying issue.\n",
      "To avoid this problem you can invoke Python with '-m pip' instead of running pip directly.\n"
     ]
    },
    {
     "name": "stdout",
     "output_type": "stream",
     "text": [
      "Requirement already satisfied: numpy==1.19.3 in /opt/anaconda3/lib/python3.8/site-packages (1.19.3)\n"
     ]
    }
   ],
   "source": [
    "import pip\n",
    "\n",
    "for package in ['opencv-python==4.4.0.46', 'numpy==1.19.3', 'matplotlib.pyplot', 'ipywidgets']:\n",
    "    try:\n",
    "        __import__(package)\n",
    "    except ImportError:\n",
    "        pip.main(['install', package])\n",
    "\n",
    "import cv2\n",
    "from ipywidgets import interact as widgets\n",
    "from matplotlib import pyplot as plt\n",
    "import numpy as np"
   ]
  },
  {
   "cell_type": "markdown",
   "metadata": {},
   "source": [
    "## Methodology\n",
    "\n",
    "### Foreground extraction \n",
    "\n",
    "The foreground is defined as the part of the image that contains the eggs. We use the foreground extraction function to adjust image contrast and brightness, using Otsu's method to thresholding images and finally overlaying the found eggs. "
   ]
  },
  {
   "cell_type": "code",
   "execution_count": 2,
   "metadata": {},
   "outputs": [
    {
     "data": {
      "application/vnd.jupyter.widget-view+json": {
       "model_id": "758581ce52064bef81751c8c52ab3a45",
       "version_major": 2,
       "version_minor": 0
      },
      "text/plain": [
       "interactive(children=(Text(value='All_eggs.jpg', description='img_title'), Checkbox(value=False, description='…"
      ]
     },
     "metadata": {},
     "output_type": "display_data"
    }
   ],
   "source": [
    "def plotimages(img1, img2, img1_title, img2_title):\n",
    "    NUM_ROWS = 1\n",
    "    IMGs_IN_ROW = 2\n",
    "    f, ax = plt.subplots(NUM_ROWS, IMGs_IN_ROW, figsize=(16, 6))\n",
    "\n",
    "    ax[0].imshow(img1)\n",
    "    ax[1].imshow(img2)\n",
    "\n",
    "    ax[0].set_title(img1_title)\n",
    "    ax[1].set_title(img2_title)\n",
    "\n",
    "    title = 'Side by side view of images'\n",
    "    f.suptitle(title, fontsize=16)\n",
    "    plt.tight_layout()\n",
    "    plt.show()\n",
    "    \n",
    "def plotimage(img1,img1_title):\n",
    "    f, ax = plt.subplots(1, 1, figsize=(16, 6))\n",
    "\n",
    "    ax[0].imshow(img1)\n",
    "    ax[0].set_title(img1_title)\n",
    "   \n",
    "    title = 'Image'\n",
    "    f.suptitle(title, fontsize=16)\n",
    "    plt.tight_layout()\n",
    "    plt.show()\n",
    "\n",
    "def foreground_extraction(img_title, is_reduce_noise, in_noise_area, out_noise_area):\n",
    "    # OTSU###################################################################\n",
    "\n",
    "    # Read the image in a greyscale mode\n",
    "    ori_image = cv2.imread(img_title)\n",
    "\n",
    "    top, bottom, left, right = [2] * 4\n",
    "    ori_image_border = cv2.copyMakeBorder(ori_image, top, bottom, left, right, cv2.BORDER_CONSTANT,\n",
    "                                          value=[255, 255, 255])\n",
    "\n",
    "    load_image = cv2.cvtColor(ori_image_border, cv2.COLOR_BGR2GRAY)\n",
    "\n",
    "    # Apply GaussianBlur to reduce image noise if it is required\n",
    "    if is_reduce_noise:\n",
    "        image = cv2.GaussianBlur(load_image, (5, 5), 0)\n",
    "        otsu_threshold, otsu_result = cv2.threshold(\n",
    "            image, 0, 255, cv2.THRESH_BINARY + cv2.THRESH_OTSU, )\n",
    "    else:\n",
    "        otsu_threshold, otsu_result = cv2.threshold(\n",
    "            load_image, 0, 255, cv2.THRESH_BINARY + cv2.THRESH_OTSU, )\n",
    "\n",
    "    # copy image\n",
    "    img = otsu_result.copy()\n",
    "    ret, thresh = cv2.threshold(img, 127, 255, 0, cv2.THRESH_BINARY)\n",
    "    thresh = 255 - thresh\n",
    "    # Use cv2.CCOMP for two level hierarchy\n",
    "    contours, hierarchy = cv2.findContours(thresh, cv2.RETR_CCOMP, cv2.CHAIN_APPROX_SIMPLE)\n",
    "\n",
    "    # loop through the contours\n",
    "    for i, cnt in enumerate(contours):\n",
    "        # if the contour has no other contours inside of it\n",
    "        if hierarchy[0][i][3] != -1:  # basically look for holes\n",
    "            # if the size of the contour is less than a threshold (noise)\n",
    "            if cv2.contourArea(cnt) < in_noise_area:\n",
    "                # Fill the holes in the original image\n",
    "                cv2.drawContours(img, [cnt], 0, [255, 255, 255], -1)\n",
    "\n",
    "    # Creating the noise mask\n",
    "    image1 = (otsu_result - img)\n",
    "    cv2.floodFill(image1, None, (0, 0), (255, 255, 255))\n",
    "\n",
    "    bit_and = cv2.bitwise_and(otsu_result, image1)\n",
    "\n",
    "    ########################################################################\n",
    "    # REMOVING AND IDENTIFYING NOISE OUTSIDE\n",
    "    dirt_image = bit_and.copy()\n",
    "\n",
    "    ret, thresh = cv2.threshold(dirt_image, 127, 255, 0, cv2.THRESH_BINARY)\n",
    "    # Use cv2.CCOMP for two level hierarchy\n",
    "    contours, hierarchy = cv2.findContours(thresh, cv2.RETR_CCOMP, cv2.CHAIN_APPROX_SIMPLE)\n",
    "\n",
    "    for i, cnt in enumerate(contours):\n",
    "        # if the contour has no other contours inside of it\n",
    "        if hierarchy[0][i][3] != -1:  # basically look for holes\n",
    "            # if the size of the contour is less than a threshold (noise)\n",
    "            if cv2.contourArea(cnt) < out_noise_area:\n",
    "                # Fill the holes in the original image\n",
    "                cv2.drawContours(thresh, [cnt], 0, [255, 255, 255], -1)\n",
    "    # Visualize the image after the Otsu's method application\n",
    "\n",
    "    cv2.imwrite(\"Clean_image.png\", thresh)\n",
    "    \n",
    "    #converting BGR2RGB\n",
    "    rgb_image = cv2.cvtColor(ori_image, cv2.COLOR_BGR2RGB)\n",
    "    rgb_thresh = cv2.cvtColor(thresh, cv2.COLOR_BGR2RGB)\n",
    "\n",
    "    plotimages(img1=rgb_image,\n",
    "               img2=rgb_thresh,\n",
    "               img1_title='Original Image',\n",
    "               img2_title='Processed Image')\n",
    "\n",
    "widgets(foreground_extraction, img_title=\"All_eggs.jpg\",\n",
    "         is_reduce_noise=False,\n",
    "         in_noise_area=(0, 240, 1),\n",
    "         out_noise_area=(0, 2000, 1));\n",
    "\n",
    "# Try in_noise_area = 120\n",
    "# Try out_noise_area = 700\n",
    "\n"
   ]
  },
  {
   "cell_type": "markdown",
   "metadata": {},
   "source": [
    "## Eggs Sorter\n",
    "\n",
    "### We would like to sort images by cluster type. There are three cluster types that we sort:\n",
    "\n",
    "- Single eggs: 1 egg\n",
    "- Small cluster: Groups of 2-3 eggs\n",
    "- Large cluster: Groups of 4 or more eggs \n",
    "\n",
    "#### Counting the average number of single eggs \n"
   ]
  },
  {
   "cell_type": "code",
   "execution_count": 3,
   "metadata": {},
   "outputs": [
    {
     "data": {
      "application/vnd.jupyter.widget-view+json": {
       "model_id": "d0f772ed355240e49a1c0bd2560434ba",
       "version_major": 2,
       "version_minor": 0
      },
      "text/plain": [
       "interactive(children=(Text(value='Clean_image.png', description='img_title'), IntSlider(value=1800, descriptio…"
      ]
     },
     "metadata": {},
     "output_type": "display_data"
    }
   ],
   "source": [
    "red   = [60, 20, 220]\n",
    "magenta = [255,0,255]\n",
    "blue  = [255,191,0]\n",
    "white = [255,255,255]\n",
    "black = [0,0,0]\n",
    "\n",
    "def sort_eggs(img_title, max_egg_area, min_egg_area, single = True):\n",
    "    ori_image = cv2.imread(img_title)\n",
    "    \n",
    "    img = cv2.imread(img_title, 0)\n",
    "    ret, thresh = cv2.threshold(img, 127, 255, 0, cv2.THRESH_BINARY)\n",
    "\n",
    "    # Find contours\n",
    "    contours, hierarchy = cv2.findContours(thresh, cv2.RETR_CCOMP, cv2.CHAIN_APPROX_SIMPLE)\n",
    "    \n",
    "    # Create a mask which will have the eggs\n",
    "    mask = np.full((img.shape[0], img.shape[1]), 0, dtype=np.uint8)\n",
    "    bgr_mask = cv2.cvtColor(mask, cv2.COLOR_GRAY2BGR)\n",
    "\n",
    "    #######################################################################################################################################\n",
    "    #Single Clusters#######################################################################################################################\n",
    "    #BLUE###############################################################################################################################\n",
    "    \n",
    "    if single:\n",
    "        for i, cnt in enumerate(contours):\n",
    "        # Grabbing the contours that fits in the criteria\n",
    "           if cv2.contourArea(cnt) > min_egg_area and cv2.contourArea(cnt) < max_egg_area:\n",
    "                cv2.drawContours(bgr_mask, [cnt], 0, blue, -1)\n",
    "                \n",
    "     #######################################################################################################################################\n",
    "    #Small Clusters#######################################################################################################################\n",
    "    #PURPLE/Magenta###############################################################################################################################\n",
    "             \n",
    "        for i, cnt in enumerate(contours):\n",
    "        # if the contour has no other contours inside of it\n",
    "           if cv2.contourArea(cnt) > max_egg_area and cv2.contourArea(cnt) < min_egg_area*8:\n",
    "                cv2.drawContours(bgr_mask, [cnt], 0, magenta, -1)            \n",
    "                \n",
    "    else:\n",
    "        bgr_mask\n",
    "\n",
    "    #######################################################################################################################################\n",
    "    #Big Clusters#####################################################################################################################\n",
    "    ##Red/Crimson############################################################################################################################\n",
    "    for i, cnt in enumerate(contours):\n",
    "        # if the contour has no other contours inside of it\n",
    "        if cv2.contourArea(cnt) > min_egg_area*8 and cv2.contourArea(cnt) < max_egg_area*1000:\n",
    "            cv2.drawContours(bgr_mask, [cnt], 0, red, -1)\n",
    "\n",
    "    #######################################################################################################################################\n",
    "    #Getting Holes#############################################################################################################\n",
    "    #######################################################################################################################################\n",
    "    # Colored and sorted eggs to be stored in bgrmask\n",
    "\n",
    "    # Create a mask which will have the eggs\n",
    "    for i, cnt in enumerate(contours):\n",
    "        if hierarchy[0, i, 3] == -1:\n",
    "            if cv2.contourArea(cnt) < 100000:\n",
    "                cv2.drawContours(bgr_mask, contours, i, (0, 0, 0), -1)\n",
    "                if hierarchy[0, i, 2] != -1:  # if this contour has inner contours\n",
    "                    childrenIndex = hierarchy[0, i, 2]\n",
    "                    while hierarchy[0, childrenIndex, 0] != -1:  # get all children for the outer contour\n",
    "                        childrenIndex = hierarchy[0, childrenIndex, 0]\n",
    "                        # now the first inner contour is just near the outer one (from the opposite side of the line)\n",
    "                        # thats why we are drawing that inner contour's children\n",
    "                        if hierarchy[0, childrenIndex, 2] != -1:\n",
    "                            cv2.drawContours(bgr_mask, contours, hierarchy[0, childrenIndex, 2], (0, 0, 0), -1)\n",
    "    \n",
    "    rgb_mask = cv2.cvtColor(bgr_mask, cv2.COLOR_BGR2RGB)\n",
    "    \n",
    "    plotimages(img1=ori_image,\n",
    "               img2=rgb_mask,\n",
    "               img1_title='Original Image',\n",
    "               img2_title='Sorted Image')\n",
    "\n",
    "    cv2.imwrite(\"Sorted_eggs.png\", bgr_mask)\n",
    "\n",
    "    cv2.waitKey(0)\n",
    "    cv2.destroyAllWindows()\n",
    "\n",
    "# Max_egg_area = 7000, min_egg_area = 3000, trying to get average egg count\n",
    "widgets(sort_eggs, \n",
    "         img_title = \"Clean_image.png\", \n",
    "         min_egg_area = 1000, \n",
    "         max_egg_area = 1800, \n",
    "         single = True);\n"
   ]
  },
  {
   "cell_type": "markdown",
   "metadata": {},
   "source": [
    "## Counting average size of eggs\n",
    "Get mask for single eggs \n",
    "Process and count average size \n",
    "Store average size"
   ]
  },
  {
   "cell_type": "code",
   "execution_count": 4,
   "metadata": {},
   "outputs": [
    {
     "data": {
      "image/png": "[encoded data removed]",
      "text/plain": [
       "<Figure size 432x288 with 1 Axes>"
      ]
     },
     "metadata": {
      "needs_background": "light"
     },
     "output_type": "display_data"
    },
    {
     "name": "stdout",
     "output_type": "stream",
     "text": [
      "The number of single egg: 54\n",
      "The average egg size: 1458.8796296296296\n",
      "These eggs have been removed\n"
     ]
    }
   ],
   "source": [
    "def counting_single_eggs(img_to_count):\n",
    "    img = cv2.imread(\"Sorted_eggs.png\")\n",
    "    # Make mask of all perfectly red pixels\n",
    "    Rmask = np.all(img == blue, axis=-1)\n",
    "\n",
    "    # Make all non-red pixels black\n",
    "    img[~Rmask] = black\n",
    "\n",
    "    # Convert egg color to white\n",
    "    img[np.where((img == blue).all(axis=2))] = white\n",
    "\n",
    "    gray = cv2.cvtColor(img, cv2.COLOR_BGR2GRAY)\n",
    "\n",
    "    edges = cv2.Canny(gray, 50, 200)\n",
    "\n",
    "    contours, hierarchy = cv2.findContours(edges.copy(), cv2.RETR_EXTERNAL, cv2.CHAIN_APPROX_NONE)\n",
    "\n",
    "    egg_count = len(contours)\n",
    "\n",
    "    areas = []\n",
    "    for i, cnt in enumerate(contours):\n",
    "        area = cv2.contourArea(cnt)\n",
    "        areas.append(area)\n",
    "        a = sum(areas)\n",
    "        average_egg = a / egg_count\n",
    "    \n",
    "    plt.figure()\n",
    "    plt.imshow(img) \n",
    "    plt.show() # display it\n",
    "    \n",
    "    #Print results\n",
    "    print(\"The number of single egg:\", str(egg_count))\n",
    "    print(\"The average egg size:\", str(average_egg))\n",
    "    print(\"These eggs have been removed\")\n",
    "    \n",
    "counting_single_eggs(\"Sorted_eggs.png\")"
   ]
  },
  {
   "cell_type": "markdown",
   "metadata": {},
   "source": [
    "### Counting large clusters\n",
    "\n",
    "Area of interest are large clusters of the red colored eggs\n",
    "\n",
    "## Before you run this, you will need to untick the \"single\" box above."
   ]
  },
  {
   "cell_type": "code",
   "execution_count": 7,
   "metadata": {
    "scrolled": true
   },
   "outputs": [
    {
     "data": {
      "application/vnd.jupyter.widget-view+json": {
       "model_id": "a99aa7b025b9443190c7b3b922de8f40",
       "version_major": 2,
       "version_minor": 0
      },
      "text/plain": [
       "interactive(children=(Text(value='All_eggs.jpg', description='original_img'), Text(value='Sorted_eggs.png', de…"
      ]
     },
     "metadata": {},
     "output_type": "display_data"
    }
   ],
   "source": [
    "def get_egg_foregroud (original_img, threshold_img):\n",
    "    #read images\n",
    "    img1 = cv2.imread(original_img)\n",
    "    img2 = cv2.imread(threshold_img)\n",
    "\n",
    "    #Convert egg color to white\n",
    "    img2[np.where((img2 == red).all(axis=2))] = [255, 255, 255]\n",
    "    \n",
    "    #Turn eggs Black\n",
    "    img2 = 255 - img2\n",
    "    cv2.imwrite(\"Large_cluster_mask.png\", img2)\n",
    "    #adding a small boarder to match previous code\n",
    "    color = [255, 255, 255]  # cause white!\n",
    "    top, bottom, left, right = [2] * 4\n",
    "    img1 = cv2.copyMakeBorder(img1, top, bottom, left, right, cv2.BORDER_CONSTANT, value=color)\n",
    "\n",
    "    #bit image\n",
    "    bit_or = cv2.bitwise_or(img1, img2)\n",
    "\n",
    "    #show and write results\n",
    "    cv2.imwrite(\"Eggs_foreground.png\", bit_or)\n",
    "    \n",
    "    rgb_image = cv2.cvtColor(img1, cv2.COLOR_BGR2RGB)\n",
    "\n",
    "    plotimages(img1=rgb_image,\n",
    "               img2=bit_or,\n",
    "               img1_title='Original Image',\n",
    "               img2_title='Processed Image')\n",
    "    \n",
    "    \n",
    "widgets(get_egg_foregroud, original_img=\"All_eggs.jpg\",\n",
    "         threshold_img = \"Sorted_eggs.png\"\n",
    "        );\n"
   ]
  },
  {
   "cell_type": "code",
   "execution_count": null,
   "metadata": {},
   "outputs": [],
   "source": []
  }
 ],
 "metadata": {
  "celltoolbar": "Edit Metadata",
  "kernelspec": {
   "display_name": "Python 3",
   "language": "python",
   "name": "python3"
  },
  "language_info": {
   "codemirror_mode": {
    "name": "ipython",
    "version": 3
   },
   "file_extension": ".py",
   "mimetype": "text/x-python",
   "name": "python",
   "nbconvert_exporter": "python",
   "pygments_lexer": "ipython3",
   "version": "3.8.5"
  }
 },
 "nbformat": 4,
 "nbformat_minor": 4
}
